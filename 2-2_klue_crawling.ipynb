{
 "cells": [
  {
   "cell_type": "markdown",
   "metadata": {},
   "source": [
    "### 크롬 열기 / 클루 로그인 / txt파일 생성"
   ]
  },
  {
   "cell_type": "code",
   "execution_count": null,
   "metadata": {
    "collapsed": true
   },
   "outputs": [],
   "source": [
    "from bs4 import BeautifulSoup\n",
    "import re\n",
    "from selenium import webdriver\n",
    "driver = webdriver.Chrome(\"/Users/choihyoung-in/Desktop/HYUNGIN/기타/NAMZ/chromedriver\")\n",
    "klue_url = \"http://klue.kr/index.php\"\n",
    "driver.get(klue_url)\n",
    "html = driver.page_source\n",
    "\n",
    "login = driver.find_element_by_id(\"mb_id\").send_keys(\"id\")\n",
    "login = driver.find_element_by_id(\"mb_pw\").send_keys(\"pw\")\n",
    "login = driver.find_element_by_xpath(\"\"\"//*[@id=\"content\"]/div[1]/div[2]/div[3]/button[1]\"\"\").click()"
   ]
  },
  {
   "cell_type": "code",
   "execution_count": 28,
   "metadata": {
    "collapsed": true
   },
   "outputs": [],
   "source": [
    "lec_info = open(\"lec_info.txt\", \"w\")\n",
    "lec_reviews = open(\"lec_reviews.txt\", \"w\")\n",
    "lec_scores = open(\"lec_scores.txt\", \"w\")"
   ]
  },
  {
   "cell_type": "markdown",
   "metadata": {},
   "source": [
    "### 60971~61070 강의 크롤링"
   ]
  },
  {
   "cell_type": "code",
   "execution_count": 29,
   "metadata": {},
   "outputs": [
    {
     "name": "stdout",
     "output_type": "stream",
     "text": [
      "60971 | 실용영어읽기와쓰기(영강) | 3.25\n",
      "\n",
      "<class 'str'>\n",
      "60972 | 실용영어읽기와쓰기(영강) | 3.75\n",
      "\n",
      "<class 'str'>\n"
     ]
    }
   ],
   "source": [
    "for lec_num in range(60971, 60973):\n",
    "#try\n",
    "    try:\n",
    "        lec_url = \"http://klue.kr/lecture.php?no={}\".format(lec_num)\n",
    "        driver.get(lec_url)\n",
    "        html = driver.page_source\n",
    "        soup = BeautifulSoup(html, 'html.parser')\n",
    "\n",
    "#lec_num(강의 번호), lec_name(강의명), lec_rating(강의 총점)을 lec_info.txt에 저장\n",
    "        lec_num\n",
    "        lec_name = soup.find('div', class_=\"lec_name\").get_text()\n",
    "        lec_rating = soup.find('div', class_=\"lec_rating\").find('div', class_=\"e total\").find('div', class_ = \"right\").get_text()\n",
    "        lec_info_total = \" | \".join([str(lec_num), lec_name, lec_rating]) + \"\\n\"\n",
    "        lec_info.write(lec_info_total)\n",
    "        \n",
    "#eval_num(강의평 번호), lec_num(강의 번호), lec_eval(강의평)을 lec_reviews.txt에 저장            \n",
    "        lec_evals = soup.find_all('div', class_=\"wrContent\")\n",
    "        eval_num = 0\n",
    "        for lec_eval in lec_evals:\n",
    "            eval_num += 1\n",
    "            lec_eval = lec_eval.get_text()\n",
    "            lec_eval = [word for word in lec_eval.split('\\n') if len(word)>0]\n",
    "            lec_eval = ' '.join(lec_eval)\n",
    "            lec_eval = re.sub(r\" +\", \" \", lec_eval)\n",
    "            lec_reviews_total = \" | \".join([str(eval_num), str(lec_num), lec_eval]) + \"\\n\"\n",
    "            lec_reviews.write(lec_reviews_total)\n",
    "\n",
    "#eval_num(강의평 번호), lec_num(강의 번호), lec_rating_i(개별 총점)을 lec_rating.txt에 저장                \n",
    "        lec_ratings = soup.find_all('div', class_=\"content\")[:-1]\n",
    "        eval_num = 0\n",
    "        for lec_rating in lec_ratings:\n",
    "            eval_num += 1\n",
    "            lec_rating_i = lec_rating.find(class_=\"center\")\n",
    "            lec_rating_i = \"총점 : \" + str(len(lec_rating_i.find_all(class_=\"active\")))\n",
    "            lec_scores_total = \" | \".join([str(eval_num), str(lec_num), lec_rating_i]) + \"\\n\"\n",
    "            lec_scores.write(lec_scores_total)\n",
    "                \n",
    "#해당 숫자에 강의가 없어 AttributeError가 뜨면 문장 print하고 다음으로 pass                \n",
    "    except :\n",
    "        print(\"{}번째 강의는 존재하지 않습니다.\".format(lec_num))\n",
    "        pass\n",
    "\n",
    "#파일, 크롬 닫기    \n",
    "lec_info.close()\n",
    "lec_scores.close()        \n",
    "lec_reviews.close()\n",
    "driver.close()"
   ]
  }
 ],
 "metadata": {
  "kernelspec": {
   "display_name": "Python 3",
   "language": "python",
   "name": "python3"
  },
  "language_info": {
   "codemirror_mode": {
    "name": "ipython",
    "version": 3
   },
   "file_extension": ".py",
   "mimetype": "text/x-python",
   "name": "python",
   "nbconvert_exporter": "python",
   "pygments_lexer": "ipython3",
   "version": "3.6.1"
  }
 },
 "nbformat": 4,
 "nbformat_minor": 2
}
