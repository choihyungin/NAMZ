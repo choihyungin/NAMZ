{
 "cells": [
  {
   "cell_type": "markdown",
   "metadata": {},
   "source": [
    "## 모듈, 파일 불러오기"
   ]
  },
  {
   "cell_type": "code",
   "execution_count": 2,
   "metadata": {
    "collapsed": true
   },
   "outputs": [],
   "source": [
    "from konlpy.tag import Twitter, Mecab, Kkma\n",
    "twitter = Twitter(); mecab = Mecab(); kkma = Kkma()\n",
    "\n",
    "from collections import Counter\n",
    "\n",
    "import numpy as np"
   ]
  },
  {
   "cell_type": "code",
   "execution_count": 11,
   "metadata": {
    "collapsed": true
   },
   "outputs": [],
   "source": [
    "refined_reviews = open(\"refined_reviews.txt\").readlines()[:3000]\n",
    "lec_ratings = open(\"lec_ratings.txt\").readlines()[:3000]"
   ]
  },
  {
   "cell_type": "markdown",
   "metadata": {},
   "source": [
    "## 클래스"
   ]
  },
  {
   "cell_type": "code",
   "execution_count": null,
   "metadata": {
    "collapsed": true
   },
   "outputs": [],
   "source": [
    "pos_targets = ['재미있다', '친절하다', '명확하다', '뿌듯하다', '유익하다', '깔끔하다', '만족스럽다', '훌륭하다']\n",
    "neg_targets = ['싫다', '지루하다', '딱하다', '나쁘다', '아쉽다', '이상하다', '아깝다', '심하다']\n",
    "\n",
    "print(Accuracy(refined_reviews, pos_targets, neg_targets).accuracy(lec_ratings))"
   ]
  },
  {
   "cell_type": "code",
   "execution_count": 14,
   "metadata": {
    "collapsed": true
   },
   "outputs": [],
   "source": [
    "class Accuracy(object):\n",
    "    \n",
    "    def __init__(self, data, pos_targets, neg_targets):\n",
    "        self.data = data\n",
    "        self.pos_targets = pos_targets\n",
    "        self.neg_targets = neg_targets\n",
    "        \n",
    "        \n",
    "        \n",
    "    def accuracy(self, ratings):\n",
    "        self.ratings = ratings\n",
    "    \n",
    "        predict_rating = self.predict()\n",
    "        \n",
    "        \n",
    "        real_rating = []    \n",
    "        for rating in ratings:\n",
    "            rating = rating.split(\" | \")[4][-1]\n",
    "        \n",
    "            if int(rating) > 3:\n",
    "                rating = 1\n",
    "            else:\n",
    "                rating = 0\n",
    "            real_rating.append(rating)\n",
    "        \n",
    "        \n",
    "        n=0\n",
    "        for i in range(len(self.data)):\n",
    "            if predict_rating[i] == real_rating[i]:\n",
    "                n += 1\n",
    "    \n",
    "        return '%.3f' % (n / len(self.data))\n",
    "    \n",
    "    \n",
    "    \n",
    "    def predict(self):\n",
    "        \n",
    "        output = []\n",
    "    \n",
    "        pos = self.bow(pos_targets)\n",
    "        neg = self.bow(neg_targets)\n",
    "    \n",
    "        p = np.sum(pos, axis = 1)\n",
    "        n = np.sum(neg, axis = 1)\n",
    "    \n",
    "        for i in range(len(self.data)):\n",
    "            total = p[i] - n[i]\n",
    "\n",
    "            if total >= 0:\n",
    "                result = 1\n",
    "            else:\n",
    "                result = 0\n",
    "            output.append(result)\n",
    "        \n",
    "        return output\n",
    "    \n",
    "    \n",
    "    \n",
    "    def bow(self, targets):\n",
    "        self.targets = targets\n",
    "    \n",
    "        output = np.zeros(shape=[len(self.data), len(targets)], dtype = np.int32)\n",
    "    \n",
    "    \n",
    "        text_list = []\n",
    "        for review in self.data:\n",
    "            text = review.split(\" | \")[4]\n",
    "            text_list.append(text)\n",
    "    \n",
    "    \n",
    "        for i, text in enumerate(text_list):\n",
    "            words = twitter.pos(text, norm=True, stem=True)\n",
    "            words = [word for (word, tag) in words if word in targets]\n",
    "            cnt = Counter(words)\n",
    "\n",
    "            for word in cnt.keys():\n",
    "                idx = targets.index(word)\n",
    "                output[i, idx] = cnt[word]        \n",
    "        \n",
    "        return output"
   ]
  },
  {
   "cell_type": "code",
   "execution_count": 15,
   "metadata": {},
   "outputs": [
    {
     "name": "stdout",
     "output_type": "stream",
     "text": [
      "0.628\n"
     ]
    }
   ],
   "source": [
    "pos_targets = ['재미있다', '친절하다', '명확하다', '뿌듯하다', '유익하다', '깔끔하다', '만족스럽다', '훌륭하다']\n",
    "neg_targets = ['싫다', '지루하다', '딱하다', '나쁘다', '아쉽다', '이상하다', '아깝다', '심하다']\n",
    "\n",
    "print(Accuracy(refined_reviews, pos_targets, neg_targets).accuracy(lec_ratings))"
   ]
  }
 ],
 "metadata": {
  "kernelspec": {
   "display_name": "Python 3",
   "language": "python",
   "name": "python3"
  },
  "language_info": {
   "codemirror_mode": {
    "name": "ipython",
    "version": 3
   },
   "file_extension": ".py",
   "mimetype": "text/x-python",
   "name": "python",
   "nbconvert_exporter": "python",
   "pygments_lexer": "ipython3",
   "version": "3.6.1"
  }
 },
 "nbformat": 4,
 "nbformat_minor": 2
}
