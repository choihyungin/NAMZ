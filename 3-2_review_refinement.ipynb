{
 "cells": [
  {
   "cell_type": "markdown",
   "metadata": {},
   "source": [
    "## 1. 강의평 정제"
   ]
  },
  {
   "cell_type": "code",
   "execution_count": 7,
   "metadata": {
    "collapsed": true
   },
   "outputs": [],
   "source": [
    "import re"
   ]
  },
  {
   "cell_type": "code",
   "execution_count": 8,
   "metadata": {
    "collapsed": true
   },
   "outputs": [],
   "source": [
    "refined_lec_reviews = open(\"refined_reviews.txt\", \"w\")"
   ]
  },
  {
   "cell_type": "code",
   "execution_count": 9,
   "metadata": {},
   "outputs": [
    {
     "name": "stdout",
     "output_type": "stream",
     "text": [
      "['30000 | 1 | 휘몬 | 2014 | 네이트평이 너무 안 좋아서 걱정 많이 했는데 듣던 대로 형식주의자인데 하라는 거만 제대로 하면 성적은 무난하게 나옵니다. 영어 실력이랑 큰 관계는 없는 것 같아요. 진짜 하라는 대로만 하면 됨. 수업 진행은 빡센 편 하나 끝나면 바로 다음 과제로 넘어가는데 아 형식주의자ㅡㅡ싶은 과제는 다시 제출할 기회를 줘서 충분히 성적 만회할 수 있음. 딱히 뭘 배웠다는 느낌은 안 들고 그냥 내가 이 수업 열심히 했다만 남음 열심히해도 성적 안 나올 줄 알았는데 한만큼 나온 느낌 성적 나오기 전까진 네이트ㅡㅡ이랬는데 성적 받고보니 좋은 사람 같음ㅎㅎ시험은 따로 없고 비중있는 과제로 중간/기말 대체!\\n', '30000 | 2 | 아메아메아메리카노 | 2014 | 영어로 할 수 있는 활동은 거의 다 한다고 보시면 됩니다. 이메일, 에세이, 프레젠테이션, 디스커션, 서베이, 리포트!!! 특히 마지막에 기말고사 대체 과제가 정말 빡셉니다. 그런데 한학기 끝내고 보면 힘든만큼 알찬느낌은 있습니다. 학점은 정말 칼같이 주시는데 형식 중요시하셔서 시키는 대로만 잘 하시면 됩니다. \\n', '30000 | 3 | 쥬르륵 | 2014 | ...학점은괜찮았지만... 조금 귀찮았고... 음... 그랬어요. 어렵진 않지만 할 게 많았습니다. \\n', '30000 | 4 | brian1813 | 2014 | Academic Englsih 중에서는 학습량이 제일 많은 강의 중 하나. 다른 강의들에 비해 준비해야 할 양과 공부해야 할 것들이 많아서 학생들의 불만이 많았음. 다만 학생 전체적인 분위기가 좋은 경우 전체적으로 성적을 잘 줄 경우도 있음. 영어 실력과 학점은 무관. 시키는 것만 형식에 따라 하면 되서 교수님이 형식변태 라는 별명도 있다.\\n', '30000 | 5 | 9minem | 2014 | Nate 이 사람이 나쁜 사람은 아닌데 진짜 편집증 환자입니다. ,and ,but을 잊지마세요. 나름 B+이라는 점수를 받았지만 다른 과목을 이렇게 했다면 A나 A+을 받았을 것 입니다. 걸리셨으면 열심히 하세요. 화이팅 후배님ㅎㅎ\\n', '30000 | 6 | fergletGENIUS | 2014 | 이 수업, 진짜 한 학기 동안 2학점 짜리 영어에만 신경쓰고, 암걸릴 준비하고 열공할 수 있으면여, 이 수 업 꼭 들으세여. 음, 아, 글구 영어 왠만큼하면 잘할 수 있어요. 점수 쉽게 받을려고 바보같이 아잉들어갔다가 에이쁠 받긴 받았네요. 그 과정이 매우 험난하죠. 그래도 교수님은 최고의 인간성을 가지고 있으니 걱정할 필요는 엄서요. (형식주의자 주의보)\\n', '30001 | 1 | 끊어진기타줄 | 2014 | 전반적으로 무난한 강의입니다. 고란슨의 악명에 비해서 사실 그렇게까지 나쁜 강의는 아니구요, 숙제양이 새내기한테는 부담스러울 정도로 쏟아진다는 단점이 있기는 합니다. 평상시 과제를 조금조금씩 해나가는 스타일의 강의를 선호하신다면 이 강의가 맞으실 겁니다. 만약 그렇지 않으시다면 바꾸셔야...\\n', '30001 | 2 | Summit | 2014 | 어쩔 수 없이 들어야되는 아잉이지만 교수님의 주어지는 숙제량이 꽤나 빡센편.. 그러나 평균 최저선은 꽤 높아서 하라는 대로만 하면 중간은 충분히 갈 수 있는 강의이다.\\n', '30001 | 3 | Scuderia | 2013 | 조금 귀찮다고 생각할 수 있을 만큼의 과제량이 있지만... 그래도 영어 실력이 조금은 느시는 경험을 할 수 있으실 겁니다.\\n', '30001 | 4 |  ksj0719 | 2014 | 평가 과정이 복잡하고 시간이 많이 들긴하지만 들을 만하고 학점도 노력에 비례해서 많이 주십니다\\n']\n"
     ]
    }
   ],
   "source": [
    "lec_reviews = open(\"lec_reviews.txt\").readlines()[:10]\n",
    "print(lec_reviews)"
   ]
  },
  {
   "cell_type": "code",
   "execution_count": 13,
   "metadata": {},
   "outputs": [
    {
     "name": "stdout",
     "output_type": "stream",
     "text": [
      "네이트평이 너무 안 좋아서 걱정 많이 했는데 듣던 대로 형식주의자인데 하라는 거만 제대로 하면 성적은 무난하게 나옵니다. 영어 실력이랑 큰 관계는 없는 것 같아요. 진짜 하라는 대로만 하면 됨. 수업 진행은 빡센 편 하나 끝나면 바로 다음 과제로 넘어가는데 아 형식주의자싶은 과제는 다시 제출할 기회를 줘서 충분히 성적 만회할 수 있음. 딱히 뭘 배웠다는 느낌은 안 들고 그냥 내가 이 수업 열심히 했다만 남음 열심히해도 성적 안 나올 줄 알았는데 한만큼 나온 느낌 성적 나오기 전까진 네이트이랬는데 성적 받고보니 좋은 사람 같음시험은 따로 없고 비중있는 과제로 중간기말 대체!\n",
      "영어로 할 수 있는 활동은 거의 다 한다고 보시면 됩니다. 이메일, 에세이, 프레젠테이션, 디스커션, 서베이, 리포트!!! 특히 마지막에 기말고사 대체 과제가 정말 빡셉니다. 그런데 한학기 끝내고 보면 힘든만큼 알찬느낌은 있습니다. 학점은 정말 칼같이 주시는데 형식 중요시하셔서 시키는 대로만 잘 하시면 됩니다. \n",
      "...학점은괜찮았지만... 조금 귀찮았고... 음... 그랬어요. 어렵진 않지만 할 게 많았습니다. \n",
      "  중에서는 학습량이 제일 많은 강의 중 하나. 다른 강의들에 비해 준비해야 할 양과 공부해야 할 것들이 많아서 학생들의 불만이 많았음. 다만 학생 전체적인 분위기가 좋은 경우 전체적으로 성적을 잘 줄 경우도 있음. 영어 실력과 학점은 무관. 시키는 것만 형식에 따라 하면 되서 교수님이 형식변태 라는 별명도 있다.\n",
      " 이 사람이 나쁜 사람은 아닌데 진짜 편집증 환자입니다. , ,을 잊지마세요. 나름 이라는 점수를 받았지만 다른 과목을 이렇게 했다면 나 을 받았을 것 입니다. 걸리셨으면 열심히 하세요. 화이팅 후배님\n",
      "이 수업, 진짜 한 학기 동안 2학점 짜리 영어에만 신경쓰고, 암걸릴 준비하고 열공할 수 있으면여, 이 수 업 꼭 들으세여. 음, 아, 글구 영어 왠만큼하면 잘할 수 있어요. 점수 쉽게 받을려고 바보같이 아잉들어갔다가 에이쁠 받긴 받았네요. 그 과정이 매우 험난하죠. 그래도 교수님은 최고의 인간성을 가지고 있으니 걱정할 필요는 엄서요. \n",
      "전반적으로 무난한 강의입니다. 고란슨의 악명에 비해서 사실 그렇게까지 나쁜 강의는 아니구요, 숙제양이 새내기한테는 부담스러울 정도로 쏟아진다는 단점이 있기는 합니다. 평상시 과제를 조금조금씩 해나가는 스타일의 강의를 선호하신다면 이 강의가 맞으실 겁니다. 만약 그렇지 않으시다면 바꾸셔야...\n",
      "어쩔 수 없이 들어야되는 아잉이지만 교수님의 주어지는 숙제량이 꽤나 빡센편.. 그러나 평균 최저선은 꽤 높아서 하라는 대로만 하면 중간은 충분히 갈 수 있는 강의이다.\n",
      "조금 귀찮다고 생각할 수 있을 만큼의 과제량이 있지만... 그래도 영어 실력이 조금은 느시는 경험을 할 수 있으실 겁니다.\n",
      "평가 과정이 복잡하고 시간이 많이 들긴하지만 들을 만하고 학점도 노력에 비례해서 많이 주십니다\n"
     ]
    }
   ],
   "source": [
    "for lec_review in lec_reviews:\n",
    "    lec_review = lec_review.split(\" | \")\n",
    "    review_sent = lec_review[4]\n",
    "    refined_sent = re.sub('\\([\\w\\W*]+\\)|[^0-9가-힣 ,.!?]', '', review_sent)\n",
    "    print(refined_sent)\n",
    "    refined_sent = \"\".join(re.findall('[0-9가-힣+]\\s?\\.?\\!?\\??\\,?', refined_sent))\n",
    "    refined_sent = refined_sent + \"\\n\"\n",
    "    total = \" | \".join([lec_review[0], lec_review[1], lec_review[2], lec_review[3], refined_sent])\n",
    "    #     refined_lec_reviews.write(total)"
   ]
  },
  {
   "cell_type": "code",
   "execution_count": null,
   "metadata": {
    "collapsed": true
   },
   "outputs": [],
   "source": [
    "refined_lec_reviews.close()"
   ]
  },
  {
   "cell_type": "markdown",
   "metadata": {},
   "source": [
    "## 2. 문장/단어 분류"
   ]
  },
  {
   "cell_type": "code",
   "execution_count": 50,
   "metadata": {
    "collapsed": true
   },
   "outputs": [],
   "source": [
    "file_pos_words = open(\"positive_words.txt\", \"w\")\n",
    "file_pos_sents = open(\"positive_sents.txt\", \"w\")\n",
    "file_neg_words = open(\"negative_words.txt\", \"w\")\n",
    "file_neg_sents = open(\"negative_sents.txt\", \"w\")"
   ]
  },
  {
   "cell_type": "code",
   "execution_count": 51,
   "metadata": {
    "collapsed": true
   },
   "outputs": [],
   "source": [
    "lec_ratings = open(\"lec_ratings.txt\").readlines()\n",
    "lec_reviews = open(\"refined_reviews.txt\").readlines()"
   ]
  },
  {
   "cell_type": "code",
   "execution_count": 52,
   "metadata": {
    "collapsed": true
   },
   "outputs": [],
   "source": [
    "i = 0\n",
    "for lec_rating in lec_ratings:\n",
    "    rating = lec_rating.split(\" | \")[4][-1]\n",
    "    review = lec_reviews[i].split(\" | \")[4]\n",
    "    total = rating + review\n",
    "    i += 1\n",
    "    if int(rating) > 3:\n",
    "        pos_sents = re.sub(\"\\.(\\n?)|\\!(\\n?)|\\?(\\n?)\", \".\\n\", review)\n",
    "        pos_words = re.sub(\"\\,|\\s\", \"\\n\", pos_sents)\n",
    "        file_pos_sents.write(pos_sents)\n",
    "        file_pos_words.write(pos_words)\n",
    "    else:\n",
    "        neg_sents = re.sub(\"\\.(\\n?)|\\!(\\n?)|\\?(\\n?)\", \".\\n\", review)\n",
    "        neg_words = re.sub(\"\\,|\\s\", \"\\n\", neg_sents)\n",
    "        file_neg_sents.write(neg_sents)\n",
    "        file_neg_words.write(neg_words)"
   ]
  },
  {
   "cell_type": "code",
   "execution_count": 53,
   "metadata": {
    "collapsed": true
   },
   "outputs": [],
   "source": [
    "file_pos_words.close()\n",
    "file_pos_sents.close()\n",
    "file_neg_words.close()\n",
    "file_neg_sents.close()"
   ]
  }
 ],
 "metadata": {
  "kernelspec": {
   "display_name": "Python 3",
   "language": "python",
   "name": "python3"
  },
  "language_info": {
   "codemirror_mode": {
    "name": "ipython",
    "version": 3
   },
   "file_extension": ".py",
   "mimetype": "text/x-python",
   "name": "python",
   "nbconvert_exporter": "python",
   "pygments_lexer": "ipython3",
   "version": "3.6.1"
  }
 },
 "nbformat": 4,
 "nbformat_minor": 2
}
