{
 "cells": [
  {
   "cell_type": "code",
   "execution_count": 3,
   "metadata": {
    "collapsed": true
   },
   "outputs": [],
   "source": [
    "from bs4 import BeautifulSoup"
   ]
  },
  {
   "cell_type": "code",
   "execution_count": 1,
   "metadata": {},
   "outputs": [
    {
     "name": "stdout",
     "output_type": "stream",
     "text": [
      "['the', 'of']\n"
     ]
    }
   ],
   "source": [
    "f = open(\"/Users/choihyoung-in/Desktop/NAMZ/google-10000-english-no-swears.txt\")\n",
    "words = f.readlines()\n",
    "\n",
    "s = []\n",
    "for word in words[:100]:\n",
    "    s.append(word.strip())\n",
    "print(s)"
   ]
  },
  {
   "cell_type": "code",
   "execution_count": 10,
   "metadata": {
    "collapsed": true
   },
   "outputs": [],
   "source": [
    "f = open(\"100words.txt\", \"w\")\n",
    "for word in s:\n",
    "    f.write(word+'\\n')\n",
    "f.close()"
   ]
  },
  {
   "cell_type": "code",
   "execution_count": 2,
   "metadata": {
    "collapsed": true
   },
   "outputs": [],
   "source": [
    "url_list = []\n",
    "for i in s:\n",
    "    dict_url = \"http://endic.naver.com/search_example.nhn?sLn=kr&query={}&examType=example\".format(i)\n",
    "    url_list.append(dict_url)"
   ]
  },
  {
   "cell_type": "code",
   "execution_count": null,
   "metadata": {
    "collapsed": true
   },
   "outputs": [],
   "source": [
    "from selenium import webdriver\n",
    "driver = webdriver.Chrome('/Users/choihyoung-in/Desktop/NAMZ/chromedriver')"
   ]
  },
  {
   "cell_type": "code",
   "execution_count": 5,
   "metadata": {
    "collapsed": true
   },
   "outputs": [
    {
     "name": "stdout",
     "output_type": "stream",
     "text": [
      "[<div class=\"lineheight18 mar_top01\" style=\"position:relative;\"><span class=\"fnt_k09\">[일반]</span><span class=\"fnt_e09\" lang=\"en\"><i class=\"fnt_e08 N=a:smd.words\" lang=\"en\" tabindex=\"0\"><input lang=\"en\" name=\"assist\" type=\"hidden\" value=\"Men\"/>Men</i> <i class=\"fnt_e08 N=a:smd.words\" lang=\"en\" tabindex=\"0\"><input lang=\"en\" name=\"assist\" type=\"hidden\" value=\"of\"/><b lang=\"en\">of</b></i> <i class=\"fnt_e08 N=a:smd.words\" lang=\"en\" tabindex=\"0\"><input lang=\"en\" name=\"assist\" type=\"hidden\" value=\"genius\"/>genius</i> <i class=\"fnt_e08 N=a:smd.words\" lang=\"en\" tabindex=\"0\"><input lang=\"en\" name=\"assist\" type=\"hidden\" value=\"are\"/>are</i> <i class=\"fnt_e08 N=a:smd.words\" lang=\"en\" tabindex=\"0\"><input lang=\"en\" name=\"assist\" type=\"hidden\" value=\"often\"/>often</i> <i class=\"fnt_e08 N=a:smd.words\" lang=\"en\" tabindex=\"0\"><input lang=\"en\" name=\"assist\" type=\"hidden\" value=\"of\"/><b lang=\"en\">of</b></i> <i class=\"fnt_e08 N=a:smd.words\" lang=\"en\" tabindex=\"0\"><input lang=\"en\" name=\"assist\" type=\"hidden\" value=\"delicate\"/>delicate</i> <i class=\"fnt_e08 N=a:smd.words\" lang=\"en\" tabindex=\"0\"><input lang=\"en\" name=\"assist\" type=\"hidden\" value=\"health\"/>health</i>.</span><a alt=\"예문 발음듣기\" class=\"btn_play N=a:xmp.tts,r:27322607,i:1\" href=\"javascript:void(0)\" vcode=\"681103\">듣기</a>\n",
      "<a class=\"source fnt_k10\" href=\"javascript:void(0)\" style=\"position: relative;\">출처:동아 출판</a>\n",
      "<div class=\"tips2\" style=\"left:169px; top: -10px;\">\n",
      "<div>\n",
      "<ul>\n",
      "<li class=\"first\">현대</li>\n",
      "<li>미국</li>\n",
      "<li>초급</li>\n",
      "<li class=\"last\"><a href=\"http://www.doosandonga.com/\" target=\"_blank\"><span class=\"blind\">예문 출처 페이지로</span>이동</a></li>\n",
      "</ul>\n",
      "</div>\n",
      "</div>\n",
      "<input lang=\"en\" name=\"\" type=\"hidden\" value=\"Men of genius are often of delicate health.\"/>\n",
      "</div>, <div class=\"lineheight18 mar_top01\" style=\"position:relative;\"><span class=\"fnt_k09\">[일반]</span><span class=\"fnt_e09\" lang=\"en\"><i class=\"fnt_e08 N=a:smd.words\" lang=\"en\" tabindex=\"0\"><input lang=\"en\" name=\"assist\" type=\"hidden\" value=\"There\"/>There</i> <i class=\"fnt_e08 N=a:smd.words\" lang=\"en\" tabindex=\"0\"><input lang=\"en\" name=\"assist\" type=\"hidden\" value=\"are\"/>are</i> <i class=\"fnt_e08 N=a:smd.words\" lang=\"en\" tabindex=\"0\"><input lang=\"en\" name=\"assist\" type=\"hidden\" value=\"a\"/>a</i> <i class=\"fnt_e08 N=a:smd.words\" lang=\"en\" tabindex=\"0\"><input lang=\"en\" name=\"assist\" type=\"hidden\" value=\"lot\"/>lot</i> <i class=\"fnt_e08 N=a:smd.words\" lang=\"en\" tabindex=\"0\"><input lang=\"en\" name=\"assist\" type=\"hidden\" value=\"of\"/><b lang=\"en\">of</b></i> <i class=\"fnt_e08 N=a:smd.words\" lang=\"en\" tabindex=\"0\"><input lang=\"en\" name=\"assist\" type=\"hidden\" value=\"small\"/>small</i> apples <i class=\"fnt_e08 N=a:smd.words\" lang=\"en\" tabindex=\"0\"><input lang=\"en\" name=\"assist\" type=\"hidden\" value=\"of\"/><b lang=\"en\">of</b></i> <i class=\"fnt_e08 N=a:smd.words\" lang=\"en\" tabindex=\"0\"><input lang=\"en\" name=\"assist\" type=\"hidden\" value=\"about\"/>about</i> <i class=\"fnt_e08 N=a:smd.words\" lang=\"en\" tabindex=\"0\"><input lang=\"en\" name=\"assist\" type=\"hidden\" value=\"the\"/>the</i> <i class=\"fnt_e08 N=a:smd.words\" lang=\"en\" tabindex=\"0\"><input lang=\"en\" name=\"assist\" type=\"hidden\" value=\"same\"/>same</i> <i class=\"fnt_e08 N=a:smd.words\" lang=\"en\" tabindex=\"0\"><input lang=\"en\" name=\"assist\" type=\"hidden\" value=\"size\"/>size</i>.</span><a alt=\"예문 발음듣기\" class=\"btn_play N=a:xmp.tts,r:27313007,i:2\" href=\"javascript:void(0)\" vcode=\"990746\">듣기</a>\n",
      "<a class=\"source fnt_k10\" href=\"javascript:void(0)\" style=\"position: relative;\">출처:동아 출판</a>\n",
      "<div class=\"tips2\" style=\"left:169px; top: -10px;\">\n",
      "<div>\n",
      "<ul>\n",
      "<li class=\"first\">현대</li>\n",
      "<li>미국</li>\n",
      "<li>초급</li>\n",
      "<li class=\"last\"><a href=\"http://www.doosandonga.com/\" target=\"_blank\"><span class=\"blind\">예문 출처 페이지로</span>이동</a></li>\n",
      "</ul>\n",
      "</div>\n",
      "</div>\n",
      "<input lang=\"en\" name=\"\" type=\"hidden\" value=\"There are a lot of small apples of about the same size.\"/>\n",
      "</div>, <div class=\"lineheight18 mar_top01\" style=\"position:relative;\"><span class=\"fnt_k09\">[일반]</span><span class=\"fnt_e09\" lang=\"en\"><i class=\"fnt_e08 N=a:smd.words\" lang=\"en\" tabindex=\"0\"><input lang=\"en\" name=\"assist\" type=\"hidden\" value=\"I\"/>I</i> <i class=\"fnt_e08 N=a:smd.words\" lang=\"en\" tabindex=\"0\"><input lang=\"en\" name=\"assist\" type=\"hidden\" value=\"want\"/>want</i> <i class=\"fnt_e08 N=a:smd.words\" lang=\"en\" tabindex=\"0\"><input lang=\"en\" name=\"assist\" type=\"hidden\" value=\"neither\"/>neither</i> (<i class=\"fnt_e08 N=a:smd.words\" lang=\"en\" tabindex=\"0\"><input lang=\"en\" name=\"assist\" type=\"hidden\" value=\"of\"/><b lang=\"en\">of</b></i> <i class=\"fnt_e08 N=a:smd.words\" lang=\"en\" tabindex=\"0\"><input lang=\"en\" name=\"assist\" type=\"hidden\" value=\"them\"/>them</i>). <i class=\"fnt_e08 N=a:smd.words\" lang=\"en\" tabindex=\"0\"><input lang=\"en\" name=\"assist\" type=\"hidden\" value=\"or\"/>or</i> <i class=\"fnt_e08 N=a:smd.words\" lang=\"en\" tabindex=\"0\"><input lang=\"en\" name=\"assist\" type=\"hidden\" value=\"I\"/>I</i> <i class=\"fnt_e08 N=a:smd.words\" lang=\"en\" tabindex=\"0\"><input lang=\"en\" name=\"assist\" type=\"hidden\" value=\"don\"/>don</i>'<i class=\"fnt_e08 N=a:smd.words\" lang=\"en\" tabindex=\"0\"><input lang=\"en\" name=\"assist\" type=\"hidden\" value=\"t\"/>t</i> <i class=\"fnt_e08 N=a:smd.words\" lang=\"en\" tabindex=\"0\"><input lang=\"en\" name=\"assist\" type=\"hidden\" value=\"want\"/>want</i> <i class=\"fnt_e08 N=a:smd.words\" lang=\"en\" tabindex=\"0\"><input lang=\"en\" name=\"assist\" type=\"hidden\" value=\"either\"/>either</i> (<i class=\"fnt_e08 N=a:smd.words\" lang=\"en\" tabindex=\"0\"><input lang=\"en\" name=\"assist\" type=\"hidden\" value=\"of\"/><b lang=\"en\">of</b></i> <i class=\"fnt_e08 N=a:smd.words\" lang=\"en\" tabindex=\"0\"><input lang=\"en\" name=\"assist\" type=\"hidden\" value=\"them\"/>them</i>).</span><a alt=\"예문 발음듣기\" class=\"btn_play N=a:xmp.tts,r:27308296,i:3\" href=\"javascript:void(0)\" vcode=\"997282\">듣기</a>\n",
      "<a class=\"source fnt_k10\" href=\"javascript:void(0)\" style=\"position: relative;\">출처:동아 출판</a>\n",
      "<div class=\"tips2\" style=\"left:169px; top: -10px;\">\n",
      "<div>\n",
      "<ul>\n",
      "<li class=\"first\">현대</li>\n",
      "<li>미국</li>\n",
      "<li>초급</li>\n",
      "<li class=\"last\"><a href=\"http://www.doosandonga.com/\" target=\"_blank\"><span class=\"blind\">예문 출처 페이지로</span>이동</a></li>\n",
      "</ul>\n",
      "</div>\n",
      "</div>\n",
      "<input lang=\"en\" name=\"\" type=\"hidden\" value=\"I want neither (of them). or I don't want either (of them).\"/>\n",
      "</div>, <div class=\"lineheight18 mar_top01\" style=\"position:relative;\"><span class=\"fnt_k09\">[일반]</span><span class=\"fnt_e09\" lang=\"en\"><i class=\"fnt_e08 N=a:smd.words\" lang=\"en\" tabindex=\"0\"><input lang=\"en\" name=\"assist\" type=\"hidden\" value=\"I\"/>I</i>'<i class=\"fnt_e08 N=a:smd.words\" lang=\"en\" tabindex=\"0\"><input lang=\"en\" name=\"assist\" type=\"hidden\" value=\"m\"/>m</i> <i class=\"fnt_e08 N=a:smd.words\" lang=\"en\" tabindex=\"0\"><input lang=\"en\" name=\"assist\" type=\"hidden\" value=\"tired\"/>tired</i> <i class=\"fnt_e08 N=a:smd.words\" lang=\"en\" tabindex=\"0\"><input lang=\"en\" name=\"assist\" type=\"hidden\" value=\"because\"/>because</i> <i class=\"fnt_e08 N=a:smd.words\" lang=\"en\" tabindex=\"0\"><input lang=\"en\" name=\"assist\" type=\"hidden\" value=\"of\"/><b lang=\"en\">of</b></i> <i class=\"fnt_e08 N=a:smd.words\" lang=\"en\" tabindex=\"0\"><input lang=\"en\" name=\"assist\" type=\"hidden\" value=\"the\"/>the</i> <i class=\"fnt_e08 N=a:smd.words\" lang=\"en\" tabindex=\"0\"><input lang=\"en\" name=\"assist\" type=\"hidden\" value=\"job\"/>job</i> <i class=\"fnt_e08 N=a:smd.words\" lang=\"en\" tabindex=\"0\"><input lang=\"en\" name=\"assist\" type=\"hidden\" value=\"of\"/><b lang=\"en\">of</b></i> <i class=\"fnt_e08 N=a:smd.words\" lang=\"en\" tabindex=\"0\"><input lang=\"en\" name=\"assist\" type=\"hidden\" value=\"work\"/>work</i>.</span><a alt=\"예문 발음듣기\" class=\"btn_play N=a:xmp.tts,r:27357194,i:4\" href=\"javascript:void(0)\" vcode=\"482325\">듣기</a>\n",
      "<a class=\"source fnt_k10\" href=\"javascript:void(0)\" style=\"position: relative;\">출처:YBM</a>\n",
      "<div class=\"tips2\" style=\"left:169px; top: -10px;\">\n",
      "<div>\n",
      "<ul>\n",
      "<li class=\"first\">현대</li>\n",
      "<li>미국</li>\n",
      "<li>초급</li>\n",
      "<li class=\"last\"><a href=\"http://www.ybmsisa.com/\" target=\"_blank\"><span class=\"blind\">예문 출처 페이지로</span>이동</a></li>\n",
      "</ul>\n",
      "</div>\n",
      "</div>\n",
      "<input lang=\"en\" name=\"\" type=\"hidden\" value=\"I'm tired because of the job of work.\"/>\n",
      "</div>, <div class=\"lineheight18 mar_top01\" style=\"position:relative;\"><span class=\"fnt_k09\">[일반]</span><span class=\"fnt_e09\" lang=\"en\"><i class=\"fnt_e08 N=a:smd.words\" lang=\"en\" tabindex=\"0\"><input lang=\"en\" name=\"assist\" type=\"hidden\" value=\"The\"/>The</i> <i class=\"fnt_e08 N=a:smd.words\" lang=\"en\" tabindex=\"0\"><input lang=\"en\" name=\"assist\" type=\"hidden\" value=\"mind\"/>mind</i> <i class=\"fnt_e08 N=a:smd.words\" lang=\"en\" tabindex=\"0\"><input lang=\"en\" name=\"assist\" type=\"hidden\" value=\"of\"/><b lang=\"en\">of</b></i> <i class=\"fnt_e08 N=a:smd.words\" lang=\"en\" tabindex=\"0\"><input lang=\"en\" name=\"assist\" type=\"hidden\" value=\"the\"/>the</i> <i class=\"fnt_e08 N=a:smd.words\" lang=\"en\" tabindex=\"0\"><input lang=\"en\" name=\"assist\" type=\"hidden\" value=\"people\"/>people</i> <i class=\"fnt_e08 N=a:smd.words\" lang=\"en\" tabindex=\"0\"><input lang=\"en\" name=\"assist\" type=\"hidden\" value=\"is\"/>is</i> <i class=\"fnt_e08 N=a:smd.words\" lang=\"en\" tabindex=\"0\"><input lang=\"en\" name=\"assist\" type=\"hidden\" value=\"the\"/>the</i> <i class=\"fnt_e08 N=a:smd.words\" lang=\"en\" tabindex=\"0\"><input lang=\"en\" name=\"assist\" type=\"hidden\" value=\"mind\"/>mind</i> <i class=\"fnt_e08 N=a:smd.words\" lang=\"en\" tabindex=\"0\"><input lang=\"en\" name=\"assist\" type=\"hidden\" value=\"of\"/><b lang=\"en\">of</b></i> <i class=\"fnt_e08 N=a:smd.words\" lang=\"en\" tabindex=\"0\"><input lang=\"en\" name=\"assist\" type=\"hidden\" value=\"heaven\"/>heaven</i>.</span><a alt=\"예문 발음듣기\" class=\"btn_play N=a:xmp.tts,r:27267036,i:5\" href=\"javascript:void(0)\" vcode=\"142102\">듣기</a>\n",
      "<a class=\"source fnt_k10\" href=\"javascript:void(0)\" style=\"position: relative;\">출처:동아 출판</a>\n",
      "<div class=\"tips2\" style=\"left:169px; top: -10px;\">\n",
      "<div>\n",
      "<ul>\n",
      "<li class=\"first\">현대</li>\n",
      "<li>미국</li>\n",
      "<li>초급</li>\n",
      "<li class=\"last\"><a href=\"http://www.doosandonga.com/\" target=\"_blank\"><span class=\"blind\">예문 출처 페이지로</span>이동</a></li>\n",
      "</ul>\n",
      "</div>\n",
      "</div>\n",
      "<input lang=\"en\" name=\"\" type=\"hidden\" value=\"The mind of the people is the mind of heaven.\"/>\n",
      "</div>]\n"
     ]
    }
   ],
   "source": [
    "sen500 = []\n",
    "for dict_url in url_list:\n",
    "    driver.get(dict_url)\n",
    "    html = driver.page_source\n",
    "    soup = BeautifulSoup(html, 'html.parser')\n",
    "    portions = soup.find_all('div', class_=\"lineheight18 mar_top01\", limit=5)\n",
    "    for portion in soup.find_all('div', class_=\"lineheight18 mar_top01\", limit=5):\n",
    "            portion_of_portion = portion.find_all('input')[-1]\n",
    "            eng_sentence = portion_of_portion.get('value')\n",
    "            eng_sentence = eng_sentence + '\\n'\n",
    "            sen500.append(eng_sentence)"
   ]
  },
  {
   "cell_type": "code",
   "execution_count": 9,
   "metadata": {
    "collapsed": true
   },
   "outputs": [],
   "source": [
    "f = open(\"sen500.txt\", \"w\")\n",
    "for ex in sen500:\n",
    "    f.write(ex)\n",
    "f.close()"
   ]
  }
 ],
 "metadata": {
  "kernelspec": {
   "display_name": "Python 3",
   "language": "python",
   "name": "python3"
  },
  "language_info": {
   "codemirror_mode": {
    "name": "ipython",
    "version": 3
   },
   "file_extension": ".py",
   "mimetype": "text/x-python",
   "name": "python",
   "nbconvert_exporter": "python",
   "pygments_lexer": "ipython3",
   "version": "3.6.1"
  }
 },
 "nbformat": 4,
 "nbformat_minor": 2
}
