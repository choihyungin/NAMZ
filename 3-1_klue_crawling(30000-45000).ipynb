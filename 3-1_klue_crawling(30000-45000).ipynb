{
 "cells": [
  {
   "cell_type": "markdown",
   "metadata": {},
   "source": [
    "## 1. 크롬 창 열기 / 클루 로그인"
   ]
  },
  {
   "cell_type": "code",
   "execution_count": 3,
   "metadata": {
    "collapsed": true
   },
   "outputs": [],
   "source": [
    "###import BeautifulSoup, import webdriver\n",
    "###chrome driver, url, page_source\n",
    "###login\n",
    "\n",
    "\n",
    "from bs4 import BeautifulSoup\n",
    "import re\n",
    "from selenium import webdriver\n",
    "driver = webdriver.Chrome(\"/Users/choihyoung-in/Desktop/NAMZ/chromedriver\")\n",
    "klue_url = \"http://klue.kr/index.php\"\n",
    "driver.get(klue_url)\n",
    "html = driver.page_source\n",
    "\n",
    "login = driver.find_element_by_id(\"mb_id\").send_keys(\"id\")\n",
    "login = driver.find_element_by_id(\"mb_pw\").send_keys('pw')\n",
    "login = driver.find_element_by_xpath(\"\"\"//*[@id=\"content\"]/div[1]/div[2]/div[3]/button[1]\"\"\").click()"
   ]
  },
  {
   "cell_type": "markdown",
   "metadata": {},
   "source": [
    "## 2. 파일 생성 / 이어쓰기"
   ]
  },
  {
   "cell_type": "code",
   "execution_count": 4,
   "metadata": {
    "collapsed": true
   },
   "outputs": [],
   "source": [
    "### \"w\"(write), \"a\"(add)\n",
    "\n",
    "\n",
    "lec_info = open(\"1_info.txt\", \"w\")\n",
    "lec_reviews = open(\"1_reviews.txt\", \"w\")\n",
    "lec_ratings = open(\"1_ratings.txt\", \"w\")"
   ]
  },
  {
   "cell_type": "markdown",
   "metadata": {},
   "source": [
    "## 3. 크롤링"
   ]
  },
  {
   "cell_type": "code",
   "execution_count": 5,
   "metadata": {
    "collapsed": true
   },
   "outputs": [],
   "source": [
    "###for loop, try-except\n",
    "\n",
    "\n",
    "for lec_num in range(30000, 45001):\n",
    "    try:\n",
    "        lec_url = \"http://klue.kr/lecture.php?no={}\".format(lec_num)\n",
    "        driver.get(lec_url)\n",
    "        html = driver.page_source\n",
    "        soup = BeautifulSoup(html, 'html.parser')\n",
    "\n",
    "        \n",
    "\n",
    "        \n",
    "        \n",
    "        ################# lec_info ##################        \n",
    "        \n",
    "        lec_name = soup.find('div', class_=\"lec_name\").get_text()\n",
    "        prof_name = soup.find('div', class_=\"lec_profName\").get_text()\n",
    "        \n",
    "        ###info_list = semester, code, credit, classification\n",
    "        info_list = soup.find('div', class_=\"lec_info\").find_all(class_=\"content\")[:4]\n",
    "        a = []\n",
    "        for i in info_list:\n",
    "            info_list = i.get_text()\n",
    "            a.append(info_list)\n",
    "        info_list = \" | \".join(a)\n",
    "\n",
    "\n",
    "        lec_time = soup.find_all('span', class_=\"content\")[4].get_text()[:-1]\n",
    "        lec_time = \"\".join(lec_time.split(\"|\"))\n",
    "        \n",
    "        \n",
    "        ###e_list = total, difficulty, studytime, attendance, grade, achievement\n",
    "        b = []\n",
    "        for i in range(0, 6):\n",
    "            l = soup.find('div', class_=\"lec_rating\").find_all(class_=\"left\")[i].get_text()\n",
    "            r = soup.find('div', class_=\"lec_rating\").find_all(class_=\"right\")[i].get_text()\n",
    "            e_list = l + \": \" + r\n",
    "            b.append(e_list)\n",
    "        e_list = \" | \".join(b)\n",
    "        \n",
    "        \n",
    "        \n",
    "        \n",
    "        lec_info_total = \" | \".join([str(lec_num), lec_name, prof_name, info_list, lec_time, e_list]) + \"\\n\"\n",
    "#        print(lec_info_total)\n",
    "        lec_info.write(lec_info_total)\n",
    "\n",
    "        \n",
    "\n",
    "        \n",
    "\n",
    "        ################ lec_reviews ################        \n",
    "        \n",
    "        eval_boxes = soup.find_all('div', class_=\"content\")[:-1]\n",
    "        eval_num = 0\n",
    "    \n",
    "        for eval_box in eval_boxes:\n",
    "            eval_num += 1\n",
    "            nickname = eval_box.find('a', class_=\"bold\").get_text()\n",
    "            ID = eval_box.find('div', class_=\"wrInfoSub\").get_text()[1:5]\n",
    "    \n",
    "            lec_eval = eval_box.find('div', class_=\"wrContent\").get_text()\n",
    "            lec_eval = [word for word in lec_eval.split('\\n') if len(word)>0]\n",
    "            lec_eval = ' '.join(lec_eval)\n",
    "            lec_eval = re.sub(r\" +\", \" \", lec_eval)\n",
    "            lec_reviews_total = \" | \".join([str(lec_num), str(eval_num), nickname, ID, lec_eval]) + \"\\n\"\n",
    "#            print(lec_reviews_total)\n",
    "            lec_reviews.write(lec_reviews_total)\n",
    "\n",
    "\n",
    "\n",
    "\n",
    "\n",
    "        ################ lec_ratings ################\n",
    "\n",
    "        eval_boxes = soup.find_all('div', class_=\"content\")[:-1]\n",
    "        eval_num = 0\n",
    "\n",
    "        for eval_box in eval_boxes:\n",
    "            eval_num += 1\n",
    "            nickname = eval_box.find('a', class_=\"bold\").get_text()\n",
    "            ID = eval_box.find('div', class_=\"wrInfoSub\").get_text()[1:5]\n",
    "            a = []\n",
    "            for i in range(0, 6):\n",
    "                try:\n",
    "                    ie_l = eval_box.find('div', class_=\"right\").find_all('div', class_=\"left\")[i]\n",
    "                    ie_r = eval_box.find('div', class_=\"right\").find_all('div', class_=\"center\")[i]\n",
    "                    ie = ie_l.get_text() + \": \" + str(len(ie_r.find_all(class_=\"active\")))\n",
    "                    a.append(ie)\n",
    "                    ie_list = \" | \".join(a)\n",
    "                except:\n",
    "                    pass        \n",
    "            lec_ratings_total = \" | \".join([str(lec_num), str(eval_num), nickname, ID, ie_list]) + \"\\n\"\n",
    "#            print(lec_ratings_total)\n",
    "            lec_ratings.write(lec_ratings_total)\n",
    "\n",
    "  \n",
    "    except :\n",
    "        print(\"{}번째 강의는 존재하지 않습니다.\".format(lec_num))\n",
    "        pass"
   ]
  },
  {
   "cell_type": "markdown",
   "metadata": {},
   "source": [
    "## 4. 크롬 창, 파일 닫기"
   ]
  },
  {
   "cell_type": "code",
   "execution_count": 6,
   "metadata": {
    "collapsed": true
   },
   "outputs": [],
   "source": [
    "lec_info.close()       \n",
    "lec_reviews.close()\n",
    "lec_ratings.close() \n",
    "#driver.close()"
   ]
  }
 ],
 "metadata": {
  "kernelspec": {
   "display_name": "Python 3",
   "language": "python",
   "name": "python3"
  },
  "language_info": {
   "codemirror_mode": {
    "name": "ipython",
    "version": 3
   },
   "file_extension": ".py",
   "mimetype": "text/x-python",
   "name": "python",
   "nbconvert_exporter": "python",
   "pygments_lexer": "ipython3",
   "version": "3.6.1"
  }
 },
 "nbformat": 4,
 "nbformat_minor": 2
}
