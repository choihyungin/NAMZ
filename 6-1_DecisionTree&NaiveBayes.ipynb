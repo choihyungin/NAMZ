{
 "cells": [
  {
   "cell_type": "markdown",
   "metadata": {},
   "source": [
    "## Import modules"
   ]
  },
  {
   "cell_type": "code",
   "execution_count": 1,
   "metadata": {
    "collapsed": true
   },
   "outputs": [],
   "source": [
    "import nltk\n",
    "\n",
    "from konlpy.tag import Twitter, Mecab, Kkma\n",
    "twitter = Twitter()\n",
    "\n",
    "from random import shuffle"
   ]
  },
  {
   "cell_type": "markdown",
   "metadata": {},
   "source": [
    "## List / Random shuffle / POS tagging"
   ]
  },
  {
   "cell_type": "code",
   "execution_count": 75,
   "metadata": {
    "collapsed": true
   },
   "outputs": [],
   "source": [
    "pos_sent = open(\"positive_sents.txt\").readlines()[:2000]\n",
    "neg_sent = open(\"negative_sents.txt\").readlines()[:2000]\n",
    "\n",
    "\n",
    "\n",
    "positive_sent=[]\n",
    "\n",
    "for sent in pos_sent:\n",
    "    sent = [[sent], 'pos']\n",
    "    positive_sent.append(sent)\n",
    "    \n",
    "    \n",
    "    \n",
    "    \n",
    "negative_sent=[]\n",
    "\n",
    "for sent in neg_sent:\n",
    "    sent = [[sent], 'neg']\n",
    "    negative_sent.append(sent)\n",
    "\n",
    "    \n",
    "    \n",
    "sentences = positive_sent + negative_sent\n",
    "shuffle(sentences)"
   ]
  },
  {
   "cell_type": "code",
   "execution_count": 4,
   "metadata": {},
   "outputs": [
    {
     "name": "stdout",
     "output_type": "stream",
     "text": [
      "[[['기말 프리젠테이션을 위해 한학기동안 13의 수업을 사용하여 준비합니다.\\n'], 'pos'], [['중간 기말 모두 동일한 방식의 시험이고 수업내용에서 전부 나옵니다.\\n'], 'pos'], [['잘하는 학생들에게 맞춰주시는 경향이 있지만 발표도 많이 하고 적극적으로 노력하는 모습을 보이면 좋은 점수 받을 수 있을거라고 생각합니다.\\n'], 'neg']]\n"
     ]
    }
   ],
   "source": [
    "print(sentences[:3])"
   ]
  },
  {
   "cell_type": "code",
   "execution_count": 76,
   "metadata": {
    "collapsed": true
   },
   "outputs": [],
   "source": [
    "sent_list = []\n",
    "\n",
    "for [sent], n_p in sentences:\n",
    "    sent = twitter.pos(sent, norm=True, stem=True)\n",
    "    sent_list.append([sent, n_p])"
   ]
  },
  {
   "cell_type": "code",
   "execution_count": 7,
   "metadata": {},
   "outputs": [
    {
     "name": "stdout",
     "output_type": "stream",
     "text": [
      "[[[('기다', 'Verb'), ('프리젠테이션', 'Noun'), ('을', 'Josa'), ('위해', 'Noun'), ('한', 'Determiner'), ('학기', 'Noun'), ('동안', 'Noun'), ('13', 'Number'), ('의', 'Noun'), ('수업', 'Noun'), ('을', 'Josa'), ('사용', 'Noun'), ('하다', 'Verb'), ('준비', 'Noun'), ('하다', 'Verb'), ('.', 'Punctuation')], 'pos'], [[('중간', 'Noun'), ('기다', 'Verb'), ('모두', 'Noun'), ('동일하다', 'Adjective'), ('방식', 'Noun'), ('의', 'Josa'), ('시험', 'Noun'), ('이고', 'Josa'), ('수업', 'Noun'), ('내용', 'Noun'), ('에서', 'Josa'), ('전부', 'Noun'), ('나오다', 'Verb'), ('.', 'Punctuation')], 'pos'], [[('잘하다', 'Verb'), ('학생', 'Noun'), ('들', 'Suffix'), ('에게', 'Josa'), ('맞추다', 'Verb'), ('경향', 'Noun'), ('이', 'Josa'), ('있다', 'Adjective'), ('발표', 'Noun'), ('도', 'Josa'), ('많이', 'Adverb'), ('하다', 'Verb'), ('적극', 'Noun'), ('적', 'Suffix'), ('으로', 'Josa'), ('노력', 'Noun'), ('하다', 'Verb'), ('모습', 'Noun'), ('을', 'Josa'), ('보이', 'Noun'), ('면', 'Josa'), ('좋다', 'Adjective'), ('점수', 'Noun'), ('받다', 'Verb'), ('수', 'Noun'), ('있다', 'Adjective'), ('생각', 'Noun'), ('하다', 'Verb'), ('.', 'Punctuation')], 'neg']]\n"
     ]
    }
   ],
   "source": [
    "print(sent_list[:3])"
   ]
  },
  {
   "cell_type": "markdown",
   "metadata": {},
   "source": [
    "## Remove stopwords / Adjective&Adverb"
   ]
  },
  {
   "cell_type": "code",
   "execution_count": 8,
   "metadata": {
    "collapsed": true
   },
   "outputs": [],
   "source": [
    "pos_top100 = open(\"pos_top100.txt\").readlines()\n",
    "neg_top100 = open(\"neg_top100.txt\").readlines()\n",
    "\n",
    "pos_stopwords_list = []\n",
    "neg_stopwords_list = []\n",
    "\n",
    "for word in pos_top100:\n",
    "    word = word[:-1]\n",
    "    pos_stopwords_list.append(word)\n",
    "\n",
    "for word in neg_top100:\n",
    "    word = word[:-1]\n",
    "    neg_stopwords_list.append(word)"
   ]
  },
  {
   "cell_type": "code",
   "execution_count": 35,
   "metadata": {},
   "outputs": [
    {
     "name": "stdout",
     "output_type": "stream",
     "text": [
      "['하다', '수업', '있다', '교수', '시험', '것', '좋다', '강의', '되다', '이다']\n",
      "['하다', '수업', '있다', '교수', '시험', '것', '되다', '강의', '이다', '않다']\n"
     ]
    }
   ],
   "source": [
    "print(pos_stopwords_list[:10])\n",
    "print(neg_stopwords_list[:10])"
   ]
  },
  {
   "cell_type": "markdown",
   "metadata": {},
   "source": [
    "### Positive"
   ]
  },
  {
   "cell_type": "code",
   "execution_count": 10,
   "metadata": {
    "collapsed": true
   },
   "outputs": [],
   "source": [
    "pos_word_list = []\n",
    "stopwords = ['괜찮다', '야하다', '그래도', '되게']\n",
    "\n",
    "for sent in pos_sent:\n",
    "    sent = twitter.pos(sent, norm=True, stem=True)\n",
    "    sent = [word for word, tag in sent if tag == 'Adverb' or tag == 'Adjective']\n",
    "    sent = [word for word in sent if word not in pos_stopwords_list and word not in stopwords]\n",
    "    \n",
    "    \n",
    "    if len(sent) >= 1:\n",
    "        pos_word_list.append(sent)"
   ]
  },
  {
   "cell_type": "code",
   "execution_count": 15,
   "metadata": {},
   "outputs": [
    {
     "name": "stdout",
     "output_type": "stream",
     "text": [
      "[['특히'], ['귀찮다'], ['복잡하다'], ['근데'], ['좋아하다'], ['높다'], ['근데', '확실하다', '엄청나다']]\n"
     ]
    }
   ],
   "source": [
    "print(pos_word_list[:7])"
   ]
  },
  {
   "cell_type": "code",
   "execution_count": 11,
   "metadata": {
    "collapsed": true
   },
   "outputs": [],
   "source": [
    "pos_word = []\n",
    "for word_list in pos_word_list:\n",
    "    for word in word_list:\n",
    "        pos_word.append(word)\n",
    "\n",
    "        \n",
    "        \n",
    "positive = []\n",
    "for word in set(pos_word):\n",
    "    a = (word, 'pos')\n",
    "    positive.append(a)"
   ]
  },
  {
   "cell_type": "code",
   "execution_count": 17,
   "metadata": {},
   "outputs": [
    {
     "name": "stdout",
     "output_type": "stream",
     "text": [
      "[('그나마', 'pos'), ('함께', 'pos'), ('그러면', 'pos'), ('그만큼', 'pos'), ('버겁다', 'pos'), ('그건', 'pos'), ('심하다', 'pos')]\n"
     ]
    }
   ],
   "source": [
    "print(positive[:7])"
   ]
  },
  {
   "cell_type": "markdown",
   "metadata": {},
   "source": [
    "### Negative"
   ]
  },
  {
   "cell_type": "code",
   "execution_count": 19,
   "metadata": {
    "collapsed": true
   },
   "outputs": [],
   "source": [
    "neg_word_list = []\n",
    "stopwords = ['괜찮다', '야하다', '그래도', '되게']\n",
    "\n",
    "\n",
    "for sent in neg_sent:\n",
    "    sent = twitter.pos(sent, norm=True, stem=True)\n",
    "    sent = [word for word, tag in sent if tag == 'Adverb' or tag == 'Adjective']\n",
    "    sent = [word for word in sent if word not in neg_stopwords_list and word not in stopwords]\n",
    "    \n",
    "    if len(sent) >= 1:\n",
    "        neg_word_list.append(sent)"
   ]
  },
  {
   "cell_type": "code",
   "execution_count": 20,
   "metadata": {
    "collapsed": true
   },
   "outputs": [],
   "source": [
    "neg_word = []\n",
    "for word_list in neg_word_list:\n",
    "    for word in word_list:\n",
    "        neg_word.append(word)\n",
    "\n",
    "negative = []\n",
    "for word in set(neg_word):\n",
    "    b = (word, 'neg')\n",
    "    negative.append(b)"
   ]
  },
  {
   "cell_type": "code",
   "execution_count": 51,
   "metadata": {},
   "outputs": [],
   "source": [
    "total = positive + negative\n",
    "\n",
    "shuffle(total)"
   ]
  },
  {
   "cell_type": "code",
   "execution_count": 22,
   "metadata": {},
   "outputs": [
    {
     "name": "stdout",
     "output_type": "stream",
     "text": [
      "[('그러면', 'pos'), ('미치다', 'pos'), ('매주', 'neg'), ('가능하다', 'neg'), ('눈부시다', 'pos')]\n"
     ]
    }
   ],
   "source": [
    "print(total[:5])"
   ]
  },
  {
   "cell_type": "markdown",
   "metadata": {},
   "source": [
    "## Data Features"
   ]
  },
  {
   "cell_type": "code",
   "execution_count": 52,
   "metadata": {
    "collapsed": true
   },
   "outputs": [],
   "source": [
    "def data_features(documents):\n",
    "    features = {}\n",
    "    document = [word for word, tag in documents[0]]\n",
    "    document_words = set(document)\n",
    "    \n",
    "    word_features = [word for word, pn in total]\n",
    "    \n",
    "    for word in word_features:\n",
    "        features['contains({})'.format(word)] = (word in document_words)\n",
    "        \n",
    "    return features"
   ]
  },
  {
   "cell_type": "code",
   "execution_count": 84,
   "metadata": {
    "collapsed": true
   },
   "outputs": [],
   "source": [
    "featuresets = []\n",
    "\n",
    "for sent in sent_list:\n",
    "    featureset = (data_features(sent), sent[1])\n",
    "    featuresets.append(featureset)"
   ]
  },
  {
   "cell_type": "code",
   "execution_count": 83,
   "metadata": {},
   "outputs": [
    {
     "name": "stdout",
     "output_type": "stream",
     "text": [
      "[[('음', 'Noun'), ('그러니까', 'Adverb'), ('유익하다', 'Adjective'), ('힘들다', 'Adjective'), ('수업', 'Noun'), ('이라는', 'Josa'), ('표현', 'Noun'), ('이', 'Josa'), ('옳다', 'Adjective'), ('것', 'Noun'), ('같다', 'Adjective')], 'neg']\n"
     ]
    }
   ],
   "source": [
    "print(sent_list[2])"
   ]
  },
  {
   "cell_type": "code",
   "execution_count": 85,
   "metadata": {},
   "outputs": [
    {
     "data": {
      "text/plain": [
       "({'contains(가급적)': False,\n",
       "  'contains(가깝다)': False,\n",
       "  'contains(가능하다)': False,\n",
       "  'contains(가볍다)': False,\n",
       "  'contains(간간히)': False,\n",
       "  'contains(간단하다)': False,\n",
       "  'contains(강력하다)': False,\n",
       "  'contains(강하다)': False,\n",
       "  'contains(걍)': False,\n",
       "  'contains(거뜬히)': False,\n",
       "  'contains(거슬리다)': False,\n",
       "  'contains(결국)': False,\n",
       "  'contains(고맙다)': False,\n",
       "  'contains(골고루)': False,\n",
       "  'contains(관계없이)': False,\n",
       "  'contains(괴롭다)': False,\n",
       "  'contains(굉장하다)': False,\n",
       "  'contains(굳다)': False,\n",
       "  'contains(귀엽다)': False,\n",
       "  'contains(귀찮다)': False,\n",
       "  'contains(그건)': False,\n",
       "  'contains(그걸)': False,\n",
       "  'contains(그나마)': False,\n",
       "  'contains(그래서)': False,\n",
       "  'contains(그러니까)': True,\n",
       "  'contains(그러면)': False,\n",
       "  'contains(그런대로)': False,\n",
       "  'contains(그렇게)': False,\n",
       "  'contains(그립다)': False,\n",
       "  'contains(그만)': False,\n",
       "  'contains(그만큼)': False,\n",
       "  'contains(그저)': False,\n",
       "  'contains(근데)': False,\n",
       "  'contains(기대하다)': False,\n",
       "  'contains(길다)': False,\n",
       "  'contains(깊다)': False,\n",
       "  'contains(깍)': False,\n",
       "  'contains(꼬이다)': False,\n",
       "  'contains(꼼꼼하다)': False,\n",
       "  'contains(꽉꽉)': False,\n",
       "  'contains(꾸준하다)': False,\n",
       "  'contains(끊임없다)': False,\n",
       "  'contains(나쁘다)': False,\n",
       "  'contains(낮다)': False,\n",
       "  'contains(넓다)': False,\n",
       "  'contains(높다)': False,\n",
       "  'contains(눈부시다)': False,\n",
       "  'contains(다르다)': False,\n",
       "  'contains(다양하다)': False,\n",
       "  'contains(단순하다)': False,\n",
       "  'contains(답답하다)': False,\n",
       "  'contains(당당하다)': False,\n",
       "  'contains(당연하다)': False,\n",
       "  'contains(당하다)': False,\n",
       "  'contains(대놓고)': False,\n",
       "  'contains(대단하다)': False,\n",
       "  'contains(덥다)': False,\n",
       "  'contains(독특하다)': False,\n",
       "  'contains(돋다)': False,\n",
       "  'contains(동일하다)': False,\n",
       "  'contains(따뜻하다)': False,\n",
       "  'contains(따로)': False,\n",
       "  'contains(딱)': False,\n",
       "  'contains(딱딱하다)': False,\n",
       "  'contains(딱하다)': False,\n",
       "  'contains(딴다)': False,\n",
       "  'contains(때우다)': False,\n",
       "  'contains(똑똑하다)': False,\n",
       "  'contains(뛰어나다)': False,\n",
       "  'contains(마커)': False,\n",
       "  'contains(만족스럽다)': False,\n",
       "  'contains(맑다)': False,\n",
       "  'contains(맛있다)': False,\n",
       "  'contains(매시간)': False,\n",
       "  'contains(매주)': False,\n",
       "  'contains(맨날)': False,\n",
       "  'contains(머쓱하다)': False,\n",
       "  'contains(멀뚱멀뚱)': False,\n",
       "  'contains(멋있다)': False,\n",
       "  'contains(멋지다)': False,\n",
       "  'contains(명확하다)': False,\n",
       "  'contains(무겁다)': False,\n",
       "  'contains(무리다)': False,\n",
       "  'contains(무섭다)': False,\n",
       "  'contains(미안하다)': False,\n",
       "  'contains(미치다)': False,\n",
       "  'contains(밉다)': False,\n",
       "  'contains(바람직하다)': False,\n",
       "  'contains(바로바로)': False,\n",
       "  'contains(바쁘다)': False,\n",
       "  'contains(버겁다)': False,\n",
       "  'contains(번거롭다)': False,\n",
       "  'contains(복잡하다)': False,\n",
       "  'contains(부담스럽다)': False,\n",
       "  'contains(부럽다)': False,\n",
       "  'contains(부족하다)': False,\n",
       "  'contains(분명하다)': False,\n",
       "  'contains(불가피하다)': False,\n",
       "  'contains(불안하다)': False,\n",
       "  'contains(불편하다)': False,\n",
       "  'contains(비슷하다)': False,\n",
       "  'contains(빠르다)': False,\n",
       "  'contains(빡치다)': False,\n",
       "  'contains(빨갛다)': False,\n",
       "  'contains(빨리)': False,\n",
       "  'contains(뿐이다)': False,\n",
       "  'contains(사소하다)': False,\n",
       "  'contains(상관없다)': False,\n",
       "  'contains(상당하다)': False,\n",
       "  'contains(새롭다)': False,\n",
       "  'contains(성실하다)': False,\n",
       "  'contains(소소하다)': False,\n",
       "  'contains(솔직하다)': False,\n",
       "  'contains(수많다)': False,\n",
       "  'contains(수시로)': False,\n",
       "  'contains(숨막히다)': False,\n",
       "  'contains(쉽다)': False,\n",
       "  'contains(스럽다)': False,\n",
       "  'contains(슬프다)': False,\n",
       "  'contains(시원하다)': False,\n",
       "  'contains(신기하다)': False,\n",
       "  'contains(신선하다)': False,\n",
       "  'contains(싫다)': False,\n",
       "  'contains(싫어하다)': False,\n",
       "  'contains(심각하다)': False,\n",
       "  'contains(심하다)': False,\n",
       "  'contains(쓸데없다)': False,\n",
       "  'contains(씩)': False,\n",
       "  'contains(아름답다)': False,\n",
       "  'contains(아무렇다)': False,\n",
       "  'contains(아무리)': False,\n",
       "  'contains(아무튼)': False,\n",
       "  'contains(아쉽다)': False,\n",
       "  'contains(아주아주)': False,\n",
       "  'contains(아프다)': False,\n",
       "  'contains(안타깝다)': False,\n",
       "  'contains(알맞다)': False,\n",
       "  'contains(얕다)': False,\n",
       "  'contains(어느)': False,\n",
       "  'contains(어느새다)': False,\n",
       "  'contains(어떻다)': False,\n",
       "  'contains(어지간하다)': False,\n",
       "  'contains(어지럽다)': False,\n",
       "  'contains(어짜피)': False,\n",
       "  'contains(어쨌건)': False,\n",
       "  'contains(어찌어찌)': False,\n",
       "  'contains(억울하다)': False,\n",
       "  'contains(언제나)': False,\n",
       "  'contains(언젠가)': False,\n",
       "  'contains(엄격하다)': False,\n",
       "  'contains(엄청)': False,\n",
       "  'contains(엄청나다)': False,\n",
       "  'contains(없이)': False,\n",
       "  'contains(옳다)': True,\n",
       "  'contains(완벽하다)': False,\n",
       "  'contains(왠만하다)': False,\n",
       "  'contains(우)': False,\n",
       "  'contains(웬만하다)': False,\n",
       "  'contains(유리하다)': False,\n",
       "  'contains(유명하다)': False,\n",
       "  'contains(유익하다)': True,\n",
       "  'contains(의외로)': False,\n",
       "  'contains(이래저래)': False,\n",
       "  'contains(이렇게)': False,\n",
       "  'contains(이렇다)': False,\n",
       "  'contains(이리)': False,\n",
       "  'contains(이미)': False,\n",
       "  'contains(이쁘다)': False,\n",
       "  'contains(이상하다)': False,\n",
       "  'contains(익숙하다)': False,\n",
       "  'contains(자세하다)': False,\n",
       "  'contains(자연스럽다)': False,\n",
       "  'contains(자유롭다)': False,\n",
       "  'contains(작다)': False,\n",
       "  'contains(잘나다)': False,\n",
       "  'contains(잘생기다)': False,\n",
       "  'contains(잦다)': False,\n",
       "  'contains(재미있다)': False,\n",
       "  'contains(재밌다)': False,\n",
       "  'contains(적당하다)': False,\n",
       "  'contains(적절하다)': False,\n",
       "  'contains(정말로)': False,\n",
       "  'contains(정확하다)': False,\n",
       "  'contains(조금씩)': False,\n",
       "  'contains(조아)': False,\n",
       "  'contains(좋아지다)': False,\n",
       "  'contains(좋아하다)': False,\n",
       "  'contains(죄송하다)': False,\n",
       "  'contains(즐겁다)': False,\n",
       "  'contains(지겹다)': False,\n",
       "  'contains(지루하다)': False,\n",
       "  'contains(진지하다)': False,\n",
       "  'contains(짧다)': False,\n",
       "  'contains(차갑다)': False,\n",
       "  'contains(착하다)': False,\n",
       "  'contains(천천히)': False,\n",
       "  'contains(철저하다)': False,\n",
       "  'contains(첨)': False,\n",
       "  'contains(충분하다)': False,\n",
       "  'contains(친절하다)': False,\n",
       "  'contains(친하다)': False,\n",
       "  'contains(커다랗다)': False,\n",
       "  'contains(탁월하다)': False,\n",
       "  'contains(투명하다)': False,\n",
       "  'contains(특별하다)': False,\n",
       "  'contains(특히)': False,\n",
       "  'contains(틀림없다)': False,\n",
       "  'contains(팍팍)': False,\n",
       "  'contains(편안하다)': False,\n",
       "  'contains(편하다)': False,\n",
       "  'contains(평범하다)': False,\n",
       "  'contains(풍부하다)': False,\n",
       "  'contains(피곤하다)': False,\n",
       "  'contains(필요없다)': False,\n",
       "  'contains(필요하다)': False,\n",
       "  'contains(함께)': False,\n",
       "  'contains(행복하다)': False,\n",
       "  'contains(혹은)': False,\n",
       "  'contains(확실하다)': False,\n",
       "  'contains(활발하다)': False,\n",
       "  'contains(훌륭하다)': False,\n",
       "  'contains(훨씬)': False,\n",
       "  'contains(흔하다)': False,\n",
       "  'contains(흥미롭다)': False,\n",
       "  'contains(히)': False},\n",
       " 'neg')"
      ]
     },
     "execution_count": 85,
     "metadata": {},
     "output_type": "execute_result"
    }
   ],
   "source": [
    "featuresets[2]"
   ]
  },
  {
   "cell_type": "code",
   "execution_count": 80,
   "metadata": {
    "collapsed": true
   },
   "outputs": [],
   "source": [
    "size = int(len(featuresets) * 0.1)\n",
    "train_set, test_set = featuresets[size:], featuresets[:size]"
   ]
  },
  {
   "cell_type": "markdown",
   "metadata": {},
   "source": [
    "## Decision Tree Classifier"
   ]
  },
  {
   "cell_type": "code",
   "execution_count": 81,
   "metadata": {},
   "outputs": [
    {
     "data": {
      "text/plain": [
       "0.575"
      ]
     },
     "execution_count": 81,
     "metadata": {},
     "output_type": "execute_result"
    }
   ],
   "source": [
    "classifier = nltk.DecisionTreeClassifier.train(train_set)\n",
    "nltk.classify.accuracy(classifier, test_set)"
   ]
  },
  {
   "cell_type": "markdown",
   "metadata": {},
   "source": [
    "## Naive Bayes Classifier"
   ]
  },
  {
   "cell_type": "code",
   "execution_count": 82,
   "metadata": {},
   "outputs": [
    {
     "data": {
      "text/plain": [
       "0.565"
      ]
     },
     "execution_count": 82,
     "metadata": {},
     "output_type": "execute_result"
    }
   ],
   "source": [
    "classifier = nltk.NaiveBayesClassifier.train(train_set)\n",
    "nltk.classify.accuracy(classifier, test_set)"
   ]
  }
 ],
 "metadata": {
  "kernelspec": {
   "display_name": "Python 3",
   "language": "python",
   "name": "python3"
  },
  "language_info": {
   "codemirror_mode": {
    "name": "ipython",
    "version": 3
   },
   "file_extension": ".py",
   "mimetype": "text/x-python",
   "name": "python",
   "nbconvert_exporter": "python",
   "pygments_lexer": "ipython3",
   "version": "3.6.1"
  }
 },
 "nbformat": 4,
 "nbformat_minor": 2
}
