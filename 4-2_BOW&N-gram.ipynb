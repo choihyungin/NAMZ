{
 "cells": [
  {
   "cell_type": "markdown",
   "metadata": {},
   "source": [
    "### 1. 모듈 불러오기"
   ]
  },
  {
   "cell_type": "code",
   "execution_count": 1,
   "metadata": {
    "collapsed": true
   },
   "outputs": [],
   "source": [
    "from konlpy.tag import Twitter, Mecab, Kkma\n",
    "twitter = Twitter(); mecab = Mecab(); kkma = Kkma()\n",
    "\n",
    "from collections import Counter"
   ]
  },
  {
   "cell_type": "markdown",
   "metadata": {},
   "source": [
    "### 2. 파일 불러오기"
   ]
  },
  {
   "cell_type": "code",
   "execution_count": 2,
   "metadata": {
    "collapsed": true
   },
   "outputs": [],
   "source": [
    "pos_sents = open(\"positive_sents.txt\").readlines()[:3]\n",
    "neg_sents = open(\"negative_sents.txt\").readlines()[:3]"
   ]
  },
  {
   "cell_type": "code",
   "execution_count": 3,
   "metadata": {},
   "outputs": [
    {
     "name": "stdout",
     "output_type": "stream",
     "text": [
      "['영어로 할 수 있는 활동은 거의 다 한다고 보시면 됩니다.\\n', '이메일,에세이,프레젠테이션,디스커션,서베이,리포트.\\n', '특히 마지막에 기말고사 대체 과제가 정말 빡셉니다.\\n']\n",
      "['네이트평이 너무 안 좋아서 걱정 많이 했는데 듣던 대로 형식주의자인데 하라는 거만 제대로 하면 성적은 무난하게 나옵니다.\\n', '영어 실력이랑 큰 관계는 없는 것 같아요.\\n', '진짜 하라는 대로만 하면 됨.\\n']\n"
     ]
    }
   ],
   "source": [
    "print(pos_sents)\n",
    "print(neg_sents)"
   ]
  },
  {
   "cell_type": "markdown",
   "metadata": {},
   "source": [
    "### 3. BOW"
   ]
  },
  {
   "cell_type": "code",
   "execution_count": 4,
   "metadata": {
    "collapsed": true
   },
   "outputs": [],
   "source": [
    "def bow(data, targets):\n",
    "    \n",
    "    output = []\n",
    "    \n",
    "    for i in range(0, len(data)):\n",
    "        words = twitter.pos(data[i], norm=True, stem=True)\n",
    "        words = [word for (word, tag) in words if word in targets]\n",
    "\n",
    "        cnt = Counter(words)\n",
    "        \n",
    "        targets_output = [0]*len(targets)\n",
    "        \n",
    "        for word in cnt.keys():\n",
    "            if word in targets:\n",
    "                idx = targets.index(word)\n",
    "                targets_output[idx] = cnt[word]\n",
    "\n",
    "        output.append(targets_output)\n",
    "        \n",
    "        \n",
    "    return output"
   ]
  },
  {
   "cell_type": "code",
   "execution_count": 5,
   "metadata": {},
   "outputs": [
    {
     "name": "stdout",
     "output_type": "stream",
     "text": [
      "[[1, 0, 2, 0], [0, 0, 0, 2], [0, 0, 0, 0]]\n"
     ]
    }
   ],
   "source": [
    "targets = ['영어', '하늘', '하다', '션']\n",
    "print(bow(pos_sents, targets))"
   ]
  },
  {
   "cell_type": "markdown",
   "metadata": {},
   "source": [
    "### 4. N-gram"
   ]
  },
  {
   "cell_type": "markdown",
   "metadata": {},
   "source": [
    "#### 1) cleanInput"
   ]
  },
  {
   "cell_type": "code",
   "execution_count": 6,
   "metadata": {
    "collapsed": true
   },
   "outputs": [],
   "source": [
    "def cleanInput(data, tagger, rm_stopwords=True):\n",
    "    \n",
    "    output = []\n",
    "    \n",
    "    for i in range(0, len(data)):\n",
    "        \n",
    "        if tagger == twitter:\n",
    "            if rm_stopwords:\n",
    "                sent = twitter.pos(data[i], norm=True, stem=True)\n",
    "                sent = [word for (word, tag) in sent if tag not in twitter_fms]\n",
    "            else:\n",
    "                sent = twitter.pos(data[i])\n",
    "                sent = [word for (word, tag) in sent]\n",
    "                \n",
    "        elif tagger == mecab:\n",
    "            if rm_stopwords:\n",
    "                sent = mecab.pos(data[i])\n",
    "                sent = [word for (word, tag) in sent if tag in mecab_fms]\n",
    "            else:\n",
    "                sent = mecab.pos(data[i])\n",
    "                sent = [word for (word, tag) in sent]\n",
    "        \n",
    "        else:\n",
    "            if rm_stopwords:\n",
    "                sent = kkma.pos(data[i])\n",
    "                sent = [word for (word, tag) in sent if tag in kkma_fms]\n",
    "            else:\n",
    "                sent = kkma.pos(data[i])\n",
    "                sent = [word for (word, tag) in sent]\n",
    "                \n",
    "        output.append(sent)\n",
    "                \n",
    "    return output"
   ]
  },
  {
   "cell_type": "code",
   "execution_count": 13,
   "metadata": {},
   "outputs": [
    {
     "name": "stdout",
     "output_type": "stream",
     "text": [
      "['영어로 할 수 있는 활동은 거의 다 한다고 보시면 됩니다.\\n', '이메일,에세이,프레젠테이션,디스커션,서베이,리포트.\\n', '특히 마지막에 기말고사 대체 과제가 정말 빡셉니다.\\n']\n"
     ]
    }
   ],
   "source": [
    "print(pos_sents)"
   ]
  },
  {
   "cell_type": "code",
   "execution_count": 9,
   "metadata": {},
   "outputs": [
    {
     "name": "stdout",
     "output_type": "stream",
     "text": [
      "[['영어', '하다', '수', '있다', '활동', '거의', '다', '하다', '보시', '되다'], ['이메일', '에세이', '프레', '젠', '테이', '션', '디스', '크다', '션', '서다', '베이', '리포트'], ['특히', '마지막', '기말고사', '대체', '과제', '정말', '빡셉니']]\n",
      "[['영어', '있', '활동', '거의', '다'], ['이메일', '에세이', '프레젠테이션', '디스', '커', '서베이', '리포트'], ['특히', '마지막', '기말고사', '대체', '과제', '정말', '빡', '셉']]\n",
      "[['영어', '하', '있', '활동', '거의', '다', '하', '보시', '되'], ['이메일', '에세이', '프', '레', '젠', '테', '션', '디스커션', '서베이', '리포트'], ['특히', '마지막', '기말', '고사', '대체', '과제', '정말', '빡세']]\n",
      "-\n"
     ]
    }
   ],
   "source": [
    "twitter_fms = ['Josa', 'Punctuation', 'Suffix']\n",
    "mecab_fms = ['NNG', 'NNP', 'NR', 'NP', 'VV', 'VA', 'VCP', 'VCN', 'MM', 'MAG', 'XR']\n",
    "kkma_fms = ['NNG', 'NNP', 'NR', 'NP', 'VV', 'VA', 'VCP', 'VCN', 'MDN', 'MDT', 'MAG', 'XR', 'UN']\n",
    "\n",
    "print(cleanInput(pos_sents, twitter, True))\n",
    "print(cleanInput(pos_sents, mecab, True))\n",
    "print(cleanInput(pos_sents, kkma, True))\n",
    "print('-')\n",
    "# print(cleanInput(pos_sents, twitter, False))\n",
    "# print(cleanInput(pos_sents, mecab, False))\n",
    "# print(cleanInput(pos_sents, kkma, False))"
   ]
  },
  {
   "cell_type": "markdown",
   "metadata": {},
   "source": [
    "#### 2) Ngram"
   ]
  },
  {
   "cell_type": "code",
   "execution_count": 10,
   "metadata": {
    "collapsed": true
   },
   "outputs": [],
   "source": [
    "def ngram(data, n, tagger, rm_stopwords=True):\n",
    "    \n",
    "    output = []\n",
    "\n",
    "    if rm_stopwords:\n",
    "        results = cleanInput(data, tagger, True)\n",
    "    else:\n",
    "        results = cleanInput(data, tagger, False)\n",
    "    \n",
    "    for i in range(0, len(results)):\n",
    "        for j in range(0, len(results[i])-(n-1)):\n",
    "            a = results[i][j:j+n]\n",
    "            output.append(a)\n",
    "            \n",
    "    return output"
   ]
  },
  {
   "cell_type": "code",
   "execution_count": 11,
   "metadata": {},
   "outputs": [
    {
     "name": "stdout",
     "output_type": "stream",
     "text": [
      "[['영어', '로'], ['로', '할'], ['할', '수'], ['수', '있는'], ['있는', '활동'], ['활동', '은'], ['은', '거의'], ['거의', '다'], ['다', '한'], ['한', '다고'], ['다고', '보시'], ['보시', '면'], ['면', '됩'], ['됩', '니다'], ['니다', '.'], ['이메일', ','], [',', '에세이'], ['에세이', ','], [',', '프레'], ['프레', '젠'], ['젠', '테이'], ['테이', '션'], ['션', ','], [',', '디스'], ['디스', '커'], ['커', '션'], ['션', ','], [',', '서'], ['서', '베이'], ['베이', ','], [',', '리포트'], ['리포트', '.'], ['특히', '마지막'], ['마지막', '에'], ['에', '기말고사'], ['기말고사', '대체'], ['대체', '과제'], ['과제', '가'], ['가', '정말'], ['정말', '빡셉니'], ['빡셉니', '다'], ['다', '.']]\n"
     ]
    }
   ],
   "source": [
    "print(ngram(pos_sents, 2, twitter, False))"
   ]
  }
 ],
 "metadata": {
  "kernelspec": {
   "display_name": "Python 3",
   "language": "python",
   "name": "python3"
  },
  "language_info": {
   "codemirror_mode": {
    "name": "ipython",
    "version": 3
   },
   "file_extension": ".py",
   "mimetype": "text/x-python",
   "name": "python",
   "nbconvert_exporter": "python",
   "pygments_lexer": "ipython3",
   "version": "3.6.1"
  }
 },
 "nbformat": 4,
 "nbformat_minor": 2
}
